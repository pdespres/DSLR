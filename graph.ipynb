{
 "cells": [
  {
   "cell_type": "code",
   "execution_count": 4,
   "metadata": {},
   "outputs": [
    {
     "name": "stdout",
     "output_type": "stream",
     "text": [
      "['Index', 'Hogwarts House', 'First Name', 'Last Name', 'Birthday', 'Best Hand', 'Arithmancy', 'Astronomy', 'Herbology', 'Defense Against the Dark Arts', 'Divination', 'Muggle Studies', 'Ancient Runes', 'History of Magic', 'Transfiguration', 'Potions', 'Care of Magical Creatures', 'Charms', 'Flying']\n"
     ]
    }
   ],
   "source": [
    "import sys\n",
    "import csv\n",
    "import os.path\n",
    "\n",
    "csvfile = './data/dataset_train.csv'\n",
    "\n",
    "def load_file(csvfile):\n",
    "\t#open file / create headers(column name) and data arrays\n",
    "\tif not os.path.isfile(csvfile):\n",
    "\t\texit_error('can\\'t find the file ' + csvfile)\n",
    "\tdata = []\n",
    "\twith open(csvfile) as csv_iterator:\n",
    "\t\tdata_reader = csv.reader(csv_iterator, delimiter=',')\n",
    "\t\tfor row in data_reader:\n",
    "\t\t\tdata.append(row)\n",
    "\tcsv_iterator.close()\n",
    "\tif len(data) < 2:\n",
    "\t\texit_error('file ' + csvfile + ' is empty')\n",
    "\theaders = data[0]\n",
    "\tdel data[0]\n",
    "\treturn headers, data\n",
    "\n",
    "headers, data = load_file(csvfile)\n",
    "print(headers)\n",
    "for index, lib in enumerate(headers):\n",
    "    if lib == 'Hogwarts House':\n",
    "        school_col = index"
   ]
  },
  {
   "cell_type": "code",
   "execution_count": 5,
   "metadata": {},
   "outputs": [
    {
     "data": {
      "text/plain": [
       "['Gryffindor', 'Hufflepuff', 'Ravenclaw', 'Slytherin']"
      ]
     },
     "execution_count": 5,
     "metadata": {},
     "output_type": "execute_result"
    }
   ],
   "source": [
    "array = []\n",
    "for row in data:\n",
    "    if row[school_col] != '':\n",
    "        array.append(row[school_col])\n",
    "uniquearray = list(sorted(set(array)))\n",
    "school = [x for x in set(uniquearray)]\n",
    "school.sort()\n",
    "school"
   ]
  },
  {
   "cell_type": "code",
   "execution_count": 17,
   "metadata": {},
   "outputs": [
    {
     "name": "stdout",
     "output_type": "stream",
     "text": [
      "Arithmancy 49121.99685534591 50249.04022988506 49446.34570765661 49374.80677966102\n",
      "Astronomy 493.3366463985004 497.7080023353848 -480.04308341912406 -496.33392705588955\n",
      "Herbology -4.7839058554262825 4.919407659469312 5.021857021987285 -4.7756243696444205\n",
      "Defense Against the Dark Arts -4.948000338163653 -4.981665988996205 4.818088305618433 4.964016442103006\n",
      "Divination 4.90134890965732 5.021664728682171 4.987893764434178 -4.814491408934705\n",
      "Muggle Studies -501.4831494366869 -498.3507737651849 489.11196678199946 -478.73188331141097\n",
      "Ancient Runes 596.9344871942797 400.1474536744999 597.7499680037051 401.8138740435321\n",
      "History of Magic -4.814947444392938 5.010294806801785 4.915960153292361 4.967680984253471\n",
      "Transfiguration 951.134696145652 1049.5621645514966 1050.3342822525544 1051.8986981594514\n",
      "Potions 2.9381324447933306 4.960686069430967 6.972413176927599 9.470743271242362\n",
      "Care of Magical Creatures -0.13918581531105442 -0.028449389854347796 0.0038991448474414896 -0.08734848990227415\n",
      "Charms -252.7310455657493 -244.34736449905475 -231.0805762979684 -249.59319401993343\n",
      "Flying 189.0245259938836 -7.0856899810964125 -3.9797968397291217 -70.3216611295681\n"
     ]
    }
   ],
   "source": [
    "def is_number(value):\n",
    "    try:\n",
    "        float(value)\n",
    "        return True\n",
    "    except ValueError:\n",
    "        return False\n",
    "\n",
    "def all_numeric(index):\n",
    "    for row in data:\n",
    "        if row[index] != '' and is_number(row[index]) == False:\n",
    "            return False\n",
    "    return True\n",
    "\n",
    "index = -1\n",
    "results = []\n",
    "for i, lib in enumerate(school):\n",
    "    results.append([])\n",
    "bonus = False\n",
    "for column in headers:\n",
    "    index += 1\n",
    "    for i, lib in enumerate(school):\n",
    "        results[i] = []\n",
    "    # test if the column is entirely made of numbers\n",
    "    bNumeric = all_numeric(index)\n",
    "    if not bNumeric or column == 'Index':\n",
    "        continue\n",
    "\n",
    "    for row in data:\n",
    "        for i, lib in enumerate(school):\n",
    "            if row[school_col] == lib and row[index] != '':\n",
    "                results[i].append(float(row[index]))\n",
    "    \n",
    "    print(column,sum(results[0])/len(results[0]),sum(results[1])/len(results[1]) \\\n",
    "         ,sum(results[2])/len(results[2]),sum(results[3])/len(results[3]))\n",
    "test = []\n",
    "test.append([0,sum(results[0])/len(results[0])])\n",
    "test.append([1,sum(results[1])/len(results[1])])\n",
    "test.append([2,sum(results[2])/len(results[2])])\n",
    "test.append([3,sum(results[3])/len(results[3])])"
   ]
  },
  {
   "cell_type": "code",
   "execution_count": 31,
   "metadata": {},
   "outputs": [
    {
     "ename": "ValueError",
     "evalue": "Integer subplot specification must be a three-digit number, not 1",
     "output_type": "error",
     "traceback": [
      "\u001b[0;31m---------------------------------------------------------------------------\u001b[0m",
      "\u001b[0;31mValueError\u001b[0m                                Traceback (most recent call last)",
      "\u001b[0;32m<ipython-input-31-acf710d7f86c>\u001b[0m in \u001b[0;36m<module>\u001b[0;34m()\u001b[0m\n\u001b[1;32m      6\u001b[0m \u001b[0;31m#a1 = list(map((lambda x: (x - mean) ** 2), data[1]))\u001b[0m\u001b[0;34m\u001b[0m\u001b[0;34m\u001b[0m\u001b[0m\n\u001b[1;32m      7\u001b[0m \u001b[0;34m\u001b[0m\u001b[0m\n\u001b[0;32m----> 8\u001b[0;31m \u001b[0mplt\u001b[0m\u001b[0;34m.\u001b[0m\u001b[0msubplot\u001b[0m\u001b[0;34m(\u001b[0m\u001b[0;36m1\u001b[0m\u001b[0;34m)\u001b[0m\u001b[0;34m\u001b[0m\u001b[0m\n\u001b[0m\u001b[1;32m      9\u001b[0m \u001b[0mplt\u001b[0m\u001b[0;34m.\u001b[0m\u001b[0mhist\u001b[0m\u001b[0;34m(\u001b[0m\u001b[0mresults\u001b[0m\u001b[0;34m[\u001b[0m\u001b[0;36m0\u001b[0m\u001b[0;34m]\u001b[0m\u001b[0;34m,\u001b[0m \u001b[0malpha\u001b[0m\u001b[0;34m=\u001b[0m\u001b[0;36m0.5\u001b[0m\u001b[0;34m,\u001b[0m \u001b[0mlabel\u001b[0m\u001b[0;34m=\u001b[0m\u001b[0;34m'0'\u001b[0m\u001b[0;34m)\u001b[0m\u001b[0;34m\u001b[0m\u001b[0m\n\u001b[1;32m     10\u001b[0m \u001b[0mplt\u001b[0m\u001b[0;34m.\u001b[0m\u001b[0mhist\u001b[0m\u001b[0;34m(\u001b[0m\u001b[0mresults\u001b[0m\u001b[0;34m[\u001b[0m\u001b[0;36m1\u001b[0m\u001b[0;34m]\u001b[0m\u001b[0;34m,\u001b[0m \u001b[0malpha\u001b[0m\u001b[0;34m=\u001b[0m\u001b[0;36m0.5\u001b[0m\u001b[0;34m,\u001b[0m \u001b[0mlabel\u001b[0m\u001b[0;34m=\u001b[0m\u001b[0;34m'1'\u001b[0m\u001b[0;34m)\u001b[0m\u001b[0;34m\u001b[0m\u001b[0m\n",
      "\u001b[0;32m/sgoinfre/goinfre/Perso/pdespres/anaconda3/lib/python3.6/site-packages/matplotlib/pyplot.py\u001b[0m in \u001b[0;36msubplot\u001b[0;34m(*args, **kwargs)\u001b[0m\n\u001b[1;32m   1051\u001b[0m \u001b[0;34m\u001b[0m\u001b[0m\n\u001b[1;32m   1052\u001b[0m     \u001b[0mfig\u001b[0m \u001b[0;34m=\u001b[0m \u001b[0mgcf\u001b[0m\u001b[0;34m(\u001b[0m\u001b[0;34m)\u001b[0m\u001b[0;34m\u001b[0m\u001b[0m\n\u001b[0;32m-> 1053\u001b[0;31m     \u001b[0ma\u001b[0m \u001b[0;34m=\u001b[0m \u001b[0mfig\u001b[0m\u001b[0;34m.\u001b[0m\u001b[0madd_subplot\u001b[0m\u001b[0;34m(\u001b[0m\u001b[0;34m*\u001b[0m\u001b[0margs\u001b[0m\u001b[0;34m,\u001b[0m \u001b[0;34m**\u001b[0m\u001b[0mkwargs\u001b[0m\u001b[0;34m)\u001b[0m\u001b[0;34m\u001b[0m\u001b[0m\n\u001b[0m\u001b[1;32m   1054\u001b[0m     \u001b[0mbbox\u001b[0m \u001b[0;34m=\u001b[0m \u001b[0ma\u001b[0m\u001b[0;34m.\u001b[0m\u001b[0mbbox\u001b[0m\u001b[0;34m\u001b[0m\u001b[0m\n\u001b[1;32m   1055\u001b[0m     \u001b[0mbyebye\u001b[0m \u001b[0;34m=\u001b[0m \u001b[0;34m[\u001b[0m\u001b[0;34m]\u001b[0m\u001b[0;34m\u001b[0m\u001b[0m\n",
      "\u001b[0;32m/sgoinfre/goinfre/Perso/pdespres/anaconda3/lib/python3.6/site-packages/matplotlib/figure.py\u001b[0m in \u001b[0;36madd_subplot\u001b[0;34m(self, *args, **kwargs)\u001b[0m\n\u001b[1;32m   1035\u001b[0m             \u001b[0;32mif\u001b[0m \u001b[0;32mnot\u001b[0m \u001b[0;36m100\u001b[0m \u001b[0;34m<=\u001b[0m \u001b[0margs\u001b[0m\u001b[0;34m[\u001b[0m\u001b[0;36m0\u001b[0m\u001b[0;34m]\u001b[0m \u001b[0;34m<=\u001b[0m \u001b[0;36m999\u001b[0m\u001b[0;34m:\u001b[0m\u001b[0;34m\u001b[0m\u001b[0m\n\u001b[1;32m   1036\u001b[0m                 raise ValueError(\"Integer subplot specification must be a \"\n\u001b[0;32m-> 1037\u001b[0;31m                                  \"three-digit number, not {}\".format(args[0]))\n\u001b[0m\u001b[1;32m   1038\u001b[0m             \u001b[0margs\u001b[0m \u001b[0;34m=\u001b[0m \u001b[0mtuple\u001b[0m\u001b[0;34m(\u001b[0m\u001b[0mmap\u001b[0m\u001b[0;34m(\u001b[0m\u001b[0mint\u001b[0m\u001b[0;34m,\u001b[0m \u001b[0mstr\u001b[0m\u001b[0;34m(\u001b[0m\u001b[0margs\u001b[0m\u001b[0;34m[\u001b[0m\u001b[0;36m0\u001b[0m\u001b[0;34m]\u001b[0m\u001b[0;34m)\u001b[0m\u001b[0;34m)\u001b[0m\u001b[0;34m)\u001b[0m\u001b[0;34m\u001b[0m\u001b[0m\n\u001b[1;32m   1039\u001b[0m \u001b[0;34m\u001b[0m\u001b[0m\n",
      "\u001b[0;31mValueError\u001b[0m: Integer subplot specification must be a three-digit number, not 1"
     ]
    },
    {
     "data": {
      "text/plain": [
       "<matplotlib.figure.Figure at 0x10df82eb8>"
      ]
     },
     "metadata": {},
     "output_type": "display_data"
    }
   ],
   "source": [
    "import matplotlib.pyplot as plt\n",
    "#plt.style.use(\"ggplot\")\n",
    "%matplotlib inline\n",
    "#plt.figure(figsize=(12, 8))\n",
    "plt.figure()\n",
    "#a1 = list(map((lambda x: (x - mean) ** 2), data[1]))\n",
    "\n",
    "plt.subplot()\n",
    "plt.hist(results[0], alpha=0.5, label='0')\n",
    "plt.hist(results[1], alpha=0.5, label='1')\n",
    "plt.hist(results[2], alpha=0.5, label='2')\n",
    "plt.hist(results[3], alpha=0.5, label='3')\n",
    "plt.legend(loc='best')"
   ]
  }
 ],
 "metadata": {
  "kernelspec": {
   "display_name": "Python [default]",
   "language": "python",
   "name": "python3"
  },
  "language_info": {
   "codemirror_mode": {
    "name": "ipython",
    "version": 3
   },
   "file_extension": ".py",
   "mimetype": "text/x-python",
   "name": "python",
   "nbconvert_exporter": "python",
   "pygments_lexer": "ipython3",
   "version": "3.6.3"
  }
 },
 "nbformat": 4,
 "nbformat_minor": 2
}
