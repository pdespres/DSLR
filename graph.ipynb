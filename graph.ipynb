{
 "cells": [
  {
   "cell_type": "code",
   "execution_count": 1,
   "metadata": {},
   "outputs": [
    {
     "name": "stdout",
     "output_type": "stream",
     "text": [
      "['Index', 'Hogwarts House', 'First Name', 'Last Name', 'Birthday', 'Best Hand', 'Arithmancy', 'Astronomy', 'Herbology', 'Defense Against the Dark Arts', 'Divination', 'Muggle Studies', 'Ancient Runes', 'History of Magic', 'Transfiguration', 'Potions', 'Care of Magical Creatures', 'Charms', 'Flying']\n"
     ]
    }
   ],
   "source": [
    "import sys\n",
    "import csv\n",
    "import os.path\n",
    "\n",
    "csvfile = './data/dataset_train.csv'\n",
    "\n",
    "def load_file(csvfile):\n",
    "\t#open file / create headers(column name) and data arrays\n",
    "\tif not os.path.isfile(csvfile):\n",
    "\t\texit_error('can\\'t find the file ' + csvfile)\n",
    "\tdata = []\n",
    "\twith open(csvfile) as csv_iterator:\n",
    "\t\tdata_reader = csv.reader(csv_iterator, delimiter=',')\n",
    "\t\tfor row in data_reader:\n",
    "\t\t\tdata.append(row)\n",
    "\tcsv_iterator.close()\n",
    "\tif len(data) < 2:\n",
    "\t\texit_error('file ' + csvfile + ' is empty')\n",
    "\theaders = data[0]\n",
    "\tdel data[0]\n",
    "\treturn headers, data\n",
    "\n",
    "headers, data = load_file(csvfile)\n",
    "print(headers)\n",
    "for index, lib in enumerate(headers):\n",
    "    if lib == 'Hogwarts House':\n",
    "        school_col = index"
   ]
  },
  {
   "cell_type": "code",
   "execution_count": 2,
   "metadata": {},
   "outputs": [
    {
     "data": {
      "text/plain": [
       "['Gryffindor', 'Hufflepuff', 'Ravenclaw', 'Slytherin']"
      ]
     },
     "execution_count": 2,
     "metadata": {},
     "output_type": "execute_result"
    }
   ],
   "source": [
    "array = []\n",
    "for row in data:\n",
    "    if row[school_col] != '':\n",
    "        array.append(row[school_col])\n",
    "uniquearray = list(sorted(set(array)))\n",
    "school = [x for x in set(uniquearray)]\n",
    "school.sort()\n",
    "school"
   ]
  },
  {
   "cell_type": "code",
   "execution_count": 8,
   "metadata": {},
   "outputs": [
    {
     "name": "stderr",
     "output_type": "stream",
     "text": [
      "/sgoinfre/goinfre/Perso/pdespres/anaconda3/lib/python3.6/site-packages/matplotlib/cbook/deprecation.py:106: MatplotlibDeprecationWarning: Adding an axes using the same arguments as a previous axes currently reuses the earlier instance.  In a future version, a new instance will always be created and returned.  Meanwhile, this warning can be suppressed, and the future behavior ensured, by passing a unique label to each axes instance.\n",
      "  warnings.warn(message, mplDeprecation, stacklevel=1)\n"
     ]
    },
    {
     "data": {
      "image/png": "[encoded data removed]",
      "text/plain": [
       "<matplotlib.figure.Figure at 0x10a5b10f0>"
      ]
     },
     "metadata": {},
     "output_type": "display_data"
    }
   ],
   "source": [
    "import matplotlib.pyplot as plt\n",
    "\n",
    "%matplotlib inline\n",
    "\n",
    "def is_number(value):\n",
    "    try:\n",
    "        float(value)\n",
    "        return True\n",
    "    except ValueError:\n",
    "        return False\n",
    "\n",
    "def all_numeric(index):\n",
    "    for row in data:\n",
    "        if row[index] != '' and is_number(row[index]) == False:\n",
    "            return False\n",
    "    return True\n",
    "\n",
    "plt.figure()\n",
    "index = -1\n",
    "cpt = 0\n",
    "results = []\n",
    "for i, lib in enumerate(school):\n",
    "    results.append([])\n",
    "bonus = False\n",
    "for column in headers:\n",
    "    index += 1\n",
    "    for i, lib in enumerate(school):\n",
    "        results[i] = []\n",
    "    # test if the column is entirely made of numbers\n",
    "    bNumeric = all_numeric(index)\n",
    "    if not bNumeric or column == 'Index':\n",
    "        continue\n",
    "    \n",
    "    cpt =+ 1\n",
    "    for row in data:\n",
    "        for i, lib in enumerate(school):\n",
    "            if row[school_col] == lib and row[index] != '':\n",
    "                results[i].append(float(row[index]))\n",
    "    plt.subplot(10,2,cpt)\n",
    "    plt.hist(results[0], alpha=0.5, label='0')\n",
    "    plt.hist(results[1], alpha=0.5, label='1')\n",
    "    plt.hist(results[2], alpha=0.5, label='2')\n",
    "    plt.hist(results[3], alpha=0.5, label='3')\n",
    "    plt.legend(loc='best')"
   ]
  },
  {
   "cell_type": "code",
   "execution_count": 6,
   "metadata": {},
   "outputs": [
    {
     "data": {
      "text/plain": [
       "<matplotlib.legend.Legend at 0x10a67be80>"
      ]
     },
     "execution_count": 6,
     "metadata": {},
     "output_type": "execute_result"
    },
    {
     "data": {
      "image/png": "[encoded data removed]",
      "text/plain": [
       "<matplotlib.figure.Figure at 0x10a59ab70>"
      ]
     },
     "metadata": {},
     "output_type": "display_data"
    }
   ],
   "source": [
    "import matplotlib.pyplot as plt\n",
    "#plt.style.use(\"ggplot\")\n",
    "%matplotlib inline\n",
    "#plt.figure(figsize=(12, 8))\n",
    "plt.figure()\n",
    "#a1 = list(map((lambda x: (x - mean) ** 2), data[1]))\n",
    "\n",
    "plt.subplot(211)\n",
    "plt.hist(results[0], alpha=0.5, label='0')\n",
    "plt.hist(results[1], alpha=0.5, label='1')\n",
    "plt.hist(results[2], alpha=0.5, label='2')\n",
    "plt.hist(results[3], alpha=0.5, label='3')\n",
    "plt.legend(loc='best')\n",
    "plt.subplot(212)\n",
    "plt.hist(results[0], alpha=0.5, label='0')\n",
    "plt.hist(results[1], alpha=0.5, label='1')\n",
    "plt.hist(results[2], alpha=0.5, label='2')\n",
    "plt.hist(results[3], alpha=0.5, label='3')\n",
    "plt.legend(loc='best')"
   ]
  },
  {
   "cell_type": "code",
   "execution_count": null,
   "metadata": {
    "collapsed": true
   },
   "outputs": [],
   "source": []
  }
 ],
 "metadata": {
  "kernelspec": {
   "display_name": "Python [default]",
   "language": "python",
   "name": "python3"
  },
  "language_info": {
   "codemirror_mode": {
    "name": "ipython",
    "version": 3
   },
   "file_extension": ".py",
   "mimetype": "text/x-python",
   "name": "python",
   "nbconvert_exporter": "python",
   "pygments_lexer": "ipython3",
   "version": "3.6.3"
  }
 },
 "nbformat": 4,
 "nbformat_minor": 2
}
