{
 "cells": [
  {
   "cell_type": "code",
   "execution_count": 10,
   "metadata": {
    "collapsed": true
   },
   "outputs": [],
   "source": [
    "import numpy as np\n",
    "from sklearn.metrics import accuracy_score\n",
    "import csv\n",
    "import os.path\n",
    "import pandas as pd\n",
    "\n",
    "def load_file(csvfile):\n",
    "    #open file / create headers(column name) and data arrays\n",
    "    if not os.path.isfile(csvfile):\n",
    "        exit_error('can\\'t find the file ' + csvfile)\n",
    "    data = []\n",
    "    with open(csvfile) as csv_iterator:\n",
    "        data_reader = csv.reader(csv_iterator, delimiter=',')\n",
    "        for row in data_reader:\n",
    "            data.append(row)\n",
    "    csv_iterator.close()\n",
    "    if len(data) < 2:\n",
    "        exit_error('file ' + csvfile + ' is empty')\n",
    "    headers = data[0]\n",
    "    del data[0]\n",
    "    return data\n",
    "\n",
    "answer = load_file('./data/houses.csv')\n",
    "train = load_file('./data/dataset_train.csv')"
   ]
  },
  {
   "cell_type": "code",
   "execution_count": 11,
   "metadata": {},
   "outputs": [
    {
     "name": "stdout",
     "output_type": "stream",
     "text": [
      "(1600, 2) (1600, 19)\n"
     ]
    }
   ],
   "source": [
    "yhat = pd.DataFrame(answer)\n",
    "y = pd.DataFrame(train)\n",
    "print(yhat.shape, y.shape)"
   ]
  },
  {
   "cell_type": "code",
   "execution_count": 4,
   "metadata": {},
   "outputs": [
    {
     "name": "stdout",
     "output_type": "stream",
     "text": [
      "0.981875\n"
     ]
    }
   ],
   "source": [
    "#0.981875\n",
    "print(accuracy_score(y[1], yhat[1]))"
   ]
  },
  {
   "cell_type": "code",
   "execution_count": 14,
   "metadata": {
    "collapsed": true
   },
   "outputs": [],
   "source": [
    "test = np.where(y[1]!=yhat[1])"
   ]
  },
  {
   "cell_type": "code",
   "execution_count": 15,
   "metadata": {
    "scrolled": true
   },
   "outputs": [
    {
     "data": {
      "text/plain": [
       "(array([ 0,  1,  2,  3,  4,  6,  7,  8,  9, 10, 11, 12, 13, 14, 15, 16, 17,\n",
       "        18]),)"
      ]
     },
     "execution_count": 15,
     "metadata": {},
     "output_type": "execute_result"
    }
   ],
   "source": [
    "#[ 184,  200,  255,  339,  445,  456,  504,  515,  618,  681,  704,\n",
    "#         815,  820,  824,  915,  941, 1078, 1098, 1113, 1191, 1282, 1419,\n",
    "#        1435, 1444, 1446, 1448, 1515, 1525, 1596]\n",
    "test"
   ]
  },
  {
   "cell_type": "code",
   "execution_count": 12,
   "metadata": {},
   "outputs": [],
   "source": [
    "p = np.random.permutation(len(train))\n",
    "y = np.array(y)\n",
    "yhat = np.array(yhat)"
   ]
  },
  {
   "cell_type": "code",
   "execution_count": 13,
   "metadata": {
    "collapsed": true
   },
   "outputs": [],
   "source": [
    "y = y[p]\n",
    "yhat = y[p]"
   ]
  }
 ],
 "metadata": {
  "kernelspec": {
   "display_name": "Python [default]",
   "language": "python",
   "name": "python3"
  },
  "language_info": {
   "codemirror_mode": {
    "name": "ipython",
    "version": 3
   },
   "file_extension": ".py",
   "mimetype": "text/x-python",
   "name": "python",
   "nbconvert_exporter": "python",
   "pygments_lexer": "ipython3",
   "version": "3.6.3"
  }
 },
 "nbformat": 4,
 "nbformat_minor": 2
}
