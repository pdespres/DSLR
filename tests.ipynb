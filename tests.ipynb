{
 "cells": [
  {
   "cell_type": "code",
   "execution_count": 1,
   "metadata": {
    "collapsed": true
   },
   "outputs": [],
   "source": [
    "import numpy as np\n",
    "from sklearn.metrics import accuracy_score\n",
    "import csv\n",
    "import os.path\n",
    "import pandas as pd\n",
    "\n",
    "def load_file(csvfile):\n",
    "    #open file / create headers(column name) and data arrays\n",
    "    if not os.path.isfile(csvfile):\n",
    "        exit_error('can\\'t find the file ' + csvfile)\n",
    "    data = []\n",
    "    with open(csvfile) as csv_iterator:\n",
    "        data_reader = csv.reader(csv_iterator, delimiter=',')\n",
    "        for row in data_reader:\n",
    "            data.append(row)\n",
    "    csv_iterator.close()\n",
    "    if len(data) < 2:\n",
    "        exit_error('file ' + csvfile + ' is empty')\n",
    "    headers = data[0]\n",
    "    del data[0]\n",
    "    return data\n",
    "\n",
    "answer = load_file('./data/houses.csv')\n",
    "train = load_file('./data/dataset_train.csv')"
   ]
  },
  {
   "cell_type": "code",
   "execution_count": 2,
   "metadata": {},
   "outputs": [
    {
     "name": "stdout",
     "output_type": "stream",
     "text": [
      "(1600, 2) (1600, 19)\n"
     ]
    }
   ],
   "source": [
    "yhat = pd.DataFrame(answer)\n",
    "y = pd.DataFrame(train)\n",
    "print(yhat.shape, y.shape)"
   ]
  },
  {
   "cell_type": "code",
   "execution_count": 3,
   "metadata": {},
   "outputs": [
    {
     "name": "stdout",
     "output_type": "stream",
     "text": [
      "0.981875\n"
     ]
    }
   ],
   "source": [
    "#0.981875\n",
    "print(accuracy_score(y[1], yhat[1]))"
   ]
  },
  {
   "cell_type": "code",
   "execution_count": null,
   "metadata": {
    "collapsed": true
   },
   "outputs": [],
   "source": [
    "22 ['0.0258', '0.0080', '0.8457', '0.0104'] 2 0.85  =>  Ravenclaw\n",
    "43 ['0.0169', '0.0158', '0.0524', '0.8645'] 3 0.86  =>  Slytherin\n",
    "103 ['0.0161', '0.2883', '0.0025', '0.8556'] 3 0.86  =>  Slytherin\n",
    "107 ['0.0093', '0.0569', '0.0903', '0.5692'] 3 0.57  =>  Slytherin\n",
    "131 ['0.8916', '0.0102', '0.0733', '0.0021'] 0 0.89  =>  Gryffindor\n",
    "134 ['0.0119', '0.8365', '0.0556', '0.0102'] 1 0.84  =>  Hufflepuff\n",
    "171 ['0.0116', '0.8891', '0.0675', '0.0063'] 1 0.89  =>  Hufflepuff\n",
    "193 ['0.0141', '0.0273', '0.8900', '0.0041'] 2 0.89  =>  Ravenclaw\n",
    "205 ['0.0295', '0.0133', '0.0384', '0.8232'] 3 0.82  =>  Slytherin\n",
    "207 ['0.0672', '0.8942', '0.0096', '0.0026'] 1 0.89  =>  Hufflepuff\n",
    "212 ['0.0188', '0.0101', '0.1159', '0.8500'] 3 0.85  =>  Slytherin\n",
    "250 ['0.0222', '0.2235', '0.0038', '0.8095'] 3 0.81  =>  Slytherin\n",
    "253 ['0.0157', '0.8483', '0.0223', '0.0124'] 1 0.85  =>  Hufflepuff\n",
    "287 ['0.0066', '0.0132', '0.1346', '0.8864'] 3 0.89  =>  Slytherin\n",
    "306 ['0.0394', '0.8811', '0.0047', '0.0171'] 1 0.88  =>  Hufflepuff\n",
    "309 ['0.0347', '0.0056', '0.1034', '0.7912'] 3 0.79  =>  Slytherin\n",
    "326 ['0.0511', '0.0018', '0.0497', '0.8549'] 3 0.85  =>  Slytherin\n",
    "328 ['0.0113', '0.0618', '0.1764', '0.5101'] 3 0.51  =>  Slytherin\n",
    "331 ['0.0097', '0.6341', '0.0238', '0.0299'] 1 0.63  =>  Hufflepuff\n",
    "364 ['0.0124', '0.8255', '0.0147', '0.0201'] 1 0.83  =>  Hufflepuff\n",
    "370 ['0.0049', '0.8460', '0.0027', '0.6875'] 1 0.85  =>  Hufflepuff\n",
    "\n",
    "328 ['0.0002', '0.0030', '0.0447', '0.6622'] 3 0.66  =>  Slytherin\n",
    "331 ['0.0001', '0.8886', '0.0014', '0.0009'] 1 0.89  =>  Hufflepuff"
   ]
  },
  {
   "cell_type": "code",
   "execution_count": 14,
   "metadata": {
    "collapsed": true
   },
   "outputs": [],
   "source": [
    "test = np.where(y[1]!=yhat[1])"
   ]
  },
  {
   "cell_type": "code",
   "execution_count": 15,
   "metadata": {
    "scrolled": true
   },
   "outputs": [
    {
     "data": {
      "text/plain": [
       "(array([ 0,  1,  2,  3,  4,  6,  7,  8,  9, 10, 11, 12, 13, 14, 15, 16, 17,\n",
       "        18]),)"
      ]
     },
     "execution_count": 15,
     "metadata": {},
     "output_type": "execute_result"
    }
   ],
   "source": [
    "#[ 184,  200,  255,  339,  445,  456,  504,  515,  618,  681,  704,\n",
    "#         815,  820,  824,  915,  941, 1078, 1098, 1113, 1191, 1282, 1419,\n",
    "#        1435, 1444, 1446, 1448, 1515, 1525, 1596]\n",
    "test"
   ]
  },
  {
   "cell_type": "code",
   "execution_count": 12,
   "metadata": {
    "collapsed": true
   },
   "outputs": [],
   "source": [
    "p = np.random.permutation(len(train))\n",
    "y = np.array(y)\n",
    "yhat = np.array(yhat)"
   ]
  },
  {
   "cell_type": "code",
   "execution_count": 13,
   "metadata": {
    "collapsed": true
   },
   "outputs": [],
   "source": [
    "y = y[p]\n",
    "yhat = y[p]"
   ]
  }
 ],
 "metadata": {
  "kernelspec": {
   "display_name": "Python [default]",
   "language": "python",
   "name": "python3"
  },
  "language_info": {
   "codemirror_mode": {
    "name": "ipython",
    "version": 3
   },
   "file_extension": ".py",
   "mimetype": "text/x-python",
   "name": "python",
   "nbconvert_exporter": "python",
   "pygments_lexer": "ipython3",
   "version": "3.6.3"
  }
 },
 "nbformat": 4,
 "nbformat_minor": 2
}
