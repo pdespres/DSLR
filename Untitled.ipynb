{
 "cells": [
  {
   "cell_type": "code",
   "execution_count": 120,
   "metadata": {
    "scrolled": false
   },
   "outputs": [
    {
     "name": "stdout",
     "output_type": "stream",
     "text": [
      "1600\n"
     ]
    }
   ],
   "source": [
    "import csv\n",
    "from pathlib import Path\n",
    "import os.path\n",
    "import sys\n",
    "\n",
    "def reading():\n",
    "    data_folder = Path('./data/')\n",
    "    csvfile = data_folder / 'dataset_train.csv'\n",
    "    if not csvfile.is_file():\n",
    "        return(0)\n",
    "    data = []\n",
    "    with open(csvfile) as csv_iterator:\n",
    "        data_reader = csv.reader(csv_iterator, delimiter=',')\n",
    "        for row in data_reader:\n",
    "            data.append(row)\n",
    "    csv_iterator.close()\n",
    "    return data\n",
    "data = reading()\n",
    "if data != 0:\n",
    "    headers = data[0]\n",
    "    del data[0]\n",
    "stats = ['','Count','Unique','Top','Freq','Mean','Std','Min','25%','50%','75%','Max']\n",
    "print(len(data))"
   ]
  },
  {
   "cell_type": "code",
   "execution_count": 121,
   "metadata": {
    "scrolled": false
   },
   "outputs": [],
   "source": [
    "def is_number(value):\n",
    "    try:\n",
    "        float(value)\n",
    "        return True\n",
    "    except ValueError:\n",
    "        return False\n",
    "\n",
    "def all_numeric(index):\n",
    "    for row in data:\n",
    "        if row[index] != '' and is_number(row[index]) == False:\n",
    "            return False\n",
    "    return True\n",
    "\n",
    "index = -1\n",
    "results = []\n",
    "bonus = False\n",
    "for column in headers:\n",
    "    index += 1\n",
    "    # test if the column is entirely made of numbers\n",
    "    bNumeric = all_numeric(index)\n",
    "    if not bNumeric and bonus == False:\n",
    "        continue\n",
    "    if column == 'Index' and bonus == True:\n",
    "        continue\n",
    "    \n",
    "    # create an array with all non empty values\n",
    "    array = []\n",
    "    for row in data:\n",
    "        if row[index] != '':\n",
    "            if bNumeric:\n",
    "                value = float(row[index])\n",
    "            else:\n",
    "                value = row[index]\n",
    "            array.append(value)\n",
    "    count = len(array)\n",
    "    if count == 0:\n",
    "        continue\n",
    "    array.sort()\n",
    "\n",
    "    result = {}\n",
    "    result[''] = column\n",
    "    result['Count'] = count\n",
    "    if bNumeric:\n",
    "        mean = sum(array) / count\n",
    "        result['Mean'] = mean\n",
    "        if count > 1:\n",
    "            result['Std'] = (sum(list(map((lambda x: (x - mean) ** 2), array))) / (count - 1)) ** 0.5\n",
    "        result['Min'] = array[0]\n",
    "        result['25%'] = array[max(int(count * 0.25) - 1, 0)]\n",
    "        result['50%'] = array[max(int(count * 0.50) - 1, 0)]\n",
    "        result['75%'] = array[max(int(count * 0.75) - 1, 0)]\n",
    "        result['Max'] = array[count - 1]\n",
    "        #bonus\n",
    "        #bonus\n",
    "    else:\n",
    "        #bonus\n",
    "        uniquearray = list(sorted(set(array)))\n",
    "        result['Unique'] = len(uniquearray)\n",
    "        temp = [[array.count(x), x] for x in set(uniquearray)]\n",
    "        temp.sort()\n",
    "        tempmax = temp[len(temp) - 1]\n",
    "        result['Top'] = tempmax[1]\n",
    "        result['Freq'] = tempmax[0]\n",
    "        #bonus\n",
    "    results.append(result)"
   ]
  },
  {
   "cell_type": "code",
   "execution_count": 122,
   "metadata": {
    "scrolled": false
   },
   "outputs": [
    {
     "name": "stdout",
     "output_type": "stream",
     "text": [
      "                Index    Arithmancy     Astronomy     Herbology Defense Against the Dark Arts    Divination Muggle Studies Ancient Runes History of Magic Transfiguration       Potions Care of Magical Creatures        Charms        Flying\n",
      "Count            1600          1566          1568          1567                          1569          1561           1565          1565             1557            1566          1570                      1560          1600          1600\n",
      "Unique            NaN           NaN           NaN           NaN           NaN           NaN           NaN           NaN           NaN           NaN           NaN           NaN           NaN           NaN\n",
      "Top               NaN           NaN           NaN           NaN           NaN           NaN           NaN           NaN           NaN           NaN           NaN           NaN           NaN           NaN\n",
      "Freq              NaN           NaN           NaN           NaN           NaN           NaN           NaN           NaN           NaN           NaN           NaN           NaN           NaN           NaN\n",
      "Mean       799.500000  49634.570243     39.797131      1.141020                     -0.387863      3.153910    -224.589915    495.747970         2.963095     1030.096946      5.950373                 -0.053427   -243.374409     21.958013\n",
      "Std        462.024530  16679.806036    520.298268      5.219682                      5.212794      4.155301     486.344840    106.285165         4.425775       44.125116      3.147854                  0.971457      8.783640     97.631602\n",
      "Min          0.000000 -24370.000000   -966.740546    -10.295663                    -10.162119     -8.727000   -1086.496835    283.869609        -8.858993      906.627320     -4.697484                 -3.313676   -261.048920   -181.470000\n",
      "25%        399.000000  38491.000000   -489.724217     -4.316909                     -5.263325      3.089000    -578.064907    397.359577         2.211949     1026.149910      3.642031                 -0.673439   -250.668590    -41.960000\n",
      "50%        799.000000  49009.000000    258.934161      3.466784                     -2.616447      4.621000    -419.662542    463.304078         4.377433     1045.480657      5.872093                 -0.046326   -244.868020     -2.520000\n",
      "75%       1199.000000  60761.000000    524.392752      5.417321                      4.897690      5.666000     254.625063    597.329744         5.812541     1058.409478      8.246324                  0.588410   -232.557490     50.450000\n",
      "Max       1599.000000 104956.000000   1016.211940     11.612895                      9.667405     10.032000    1092.388611    745.396220        11.889713     1098.958201     13.536762                  3.056546   -225.428140    279.070000\n"
     ]
    }
   ],
   "source": [
    "for y in stats:\n",
    "    line = y.ljust(7)\n",
    "    for x in results:\n",
    "        if y in x.keys():\n",
    "            input = x[y]\n",
    "            padding = max(len(x['']) + 1, 14)\n",
    "            if is_number(input):\n",
    "                if y == 'Count':\n",
    "                    line += '{0:.0f}'.format(x[y]).rjust(padding)\n",
    "                else:\n",
    "                    line += '{0:.6f}'.format(x[y]).rjust(padding)\n",
    "            else:\n",
    "                line += x[y].rjust(padding)\n",
    "        else:\n",
    "            line += 'NaN'.rjust(padding)\n",
    "    print(line)\n",
    "    "
   ]
  },
  {
   "cell_type": "code",
   "execution_count": 123,
   "metadata": {},
   "outputs": [
    {
     "data": {
      "text/html": [
       "<div>\n",
       "<style>\n",
       "    .dataframe thead tr:only-child th {\n",
       "        text-align: right;\n",
       "    }\n",
       "\n",
       "    .dataframe thead th {\n",
       "        text-align: left;\n",
       "    }\n",
       "\n",
       "    .dataframe tbody tr th {\n",
       "        vertical-align: top;\n",
       "    }\n",
       "</style>\n",
       "<table border=\"1\" class=\"dataframe\">\n",
       "  <thead>\n",
       "    <tr style=\"text-align: right;\">\n",
       "      <th></th>\n",
       "      <th>0</th>\n",
       "    </tr>\n",
       "  </thead>\n",
       "  <tbody>\n",
       "    <tr>\n",
       "      <th>count</th>\n",
       "      <td>1600.000000</td>\n",
       "    </tr>\n",
       "    <tr>\n",
       "      <th>mean</th>\n",
       "      <td>21.958013</td>\n",
       "    </tr>\n",
       "    <tr>\n",
       "      <th>std</th>\n",
       "      <td>97.631602</td>\n",
       "    </tr>\n",
       "    <tr>\n",
       "      <th>min</th>\n",
       "      <td>-181.470000</td>\n",
       "    </tr>\n",
       "    <tr>\n",
       "      <th>25%</th>\n",
       "      <td>-41.870000</td>\n",
       "    </tr>\n",
       "    <tr>\n",
       "      <th>50%</th>\n",
       "      <td>-2.515000</td>\n",
       "    </tr>\n",
       "    <tr>\n",
       "      <th>75%</th>\n",
       "      <td>50.560000</td>\n",
       "    </tr>\n",
       "    <tr>\n",
       "      <th>max</th>\n",
       "      <td>279.070000</td>\n",
       "    </tr>\n",
       "  </tbody>\n",
       "</table>\n",
       "</div>"
      ],
      "text/plain": [
       "                 0\n",
       "count  1600.000000\n",
       "mean     21.958013\n",
       "std      97.631602\n",
       "min    -181.470000\n",
       "25%     -41.870000\n",
       "50%      -2.515000\n",
       "75%      50.560000\n",
       "max     279.070000"
      ]
     },
     "execution_count": 123,
     "metadata": {},
     "output_type": "execute_result"
    }
   ],
   "source": [
    "import pandas as pd\n",
    "\n",
    "test = pd.DataFrame(array)\n",
    "test.describe()"
   ]
  }
 ],
 "metadata": {
  "kernelspec": {
   "display_name": "Python [default]",
   "language": "python",
   "name": "python3"
  },
  "language_info": {
   "codemirror_mode": {
    "name": "ipython",
    "version": 3
   },
   "file_extension": ".py",
   "mimetype": "text/x-python",
   "name": "python",
   "nbconvert_exporter": "python",
   "pygments_lexer": "ipython3",
   "version": "3.6.3"
  }
 },
 "nbformat": 4,
 "nbformat_minor": 2
}
