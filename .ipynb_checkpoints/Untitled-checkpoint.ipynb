{
 "cells": [
  {
   "cell_type": "code",
   "execution_count": 8,
   "metadata": {
    "scrolled": false
   },
   "outputs": [
    {
     "name": "stdout",
     "output_type": "stream",
     "text": [
      "1600\n"
     ]
    }
   ],
   "source": [
    "import csv\n",
    "from pathlib import Path\n",
    "import os.path\n",
    "import sys\n",
    "\n",
    "def reading():\n",
    "    data_folder = Path('./data/')\n",
    "    csvfile = data_folder / 'dataset_train.csv'\n",
    "    if not csvfile.is_file():\n",
    "        return(0)\n",
    "    data = []\n",
    "    with open(csvfile) as csv_iterator:\n",
    "        data_reader = csv.reader(csv_iterator, delimiter=',')\n",
    "        for row in data_reader:\n",
    "            data.append(row)\n",
    "    csv_iterator.close()\n",
    "    return data\n",
    "data = reading()\n",
    "if data != 0:\n",
    "    headers = data[0]\n",
    "    del data[0]\n",
    "print(len(data))"
   ]
  },
  {
   "cell_type": "code",
   "execution_count": 16,
   "metadata": {
    "scrolled": true
   },
   "outputs": [
    {
     "name": "stdout",
     "output_type": "stream",
     "text": [
      "ok Index\n",
      "<built-in method index of list object at 0x107fdcd08>\n",
      "<built-in method index of list object at 0x107fdcd08>\n",
      "<built-in method index of list object at 0x107fdcd08>\n",
      "<built-in method index of list object at 0x107fdcd08>\n",
      "<built-in method index of list object at 0x107fdcd08>\n",
      "<built-in method index of list object at 0x107fdcd08>\n",
      "<built-in method index of list object at 0x107fdcd08>\n",
      "<built-in method index of list object at 0x107fdcd08>\n",
      "<built-in method index of list object at 0x107fdcd08>\n",
      "<built-in method index of list object at 0x107fdcd08>\n",
      "<built-in method index of list object at 0x107fdcd08>\n",
      "<built-in method index of list object at 0x107fdcd08>\n",
      "<built-in method index of list object at 0x107fdcd08>\n",
      "<built-in method index of list object at 0x107fdcd08>\n",
      "<built-in method index of list object at 0x107fdcd08>\n",
      "<built-in method index of list object at 0x107fdcd08>\n",
      "<built-in method index of list object at 0x107fdcd08>\n",
      "<built-in method index of list object at 0x107fdcd08>\n"
     ]
    }
   ],
   "source": [
    "def all_numeric(index):\n",
    "    for row in data:\n",
    "        if row[index].isnumeric() == False:\n",
    "            print(row.index)\n",
    "            return False\n",
    "    return True\n",
    "\n",
    "index = 0\n",
    "for column in headers:\n",
    "    if all_numeric(index):\n",
    "        print('ok', column)\n",
    "    index += 1"
   ]
  }
 ],
 "metadata": {
  "kernelspec": {
   "display_name": "Python [default]",
   "language": "python",
   "name": "python3"
  },
  "language_info": {
   "codemirror_mode": {
    "name": "ipython",
    "version": 3
   },
   "file_extension": ".py",
   "mimetype": "text/x-python",
   "name": "python",
   "nbconvert_exporter": "python",
   "pygments_lexer": "ipython3",
   "version": "3.6.3"
  }
 },
 "nbformat": 4,
 "nbformat_minor": 2
}
