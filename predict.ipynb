{
 "cells": [
  {
   "cell_type": "code",
   "execution_count": 20,
   "metadata": {
    "collapsed": true
   },
   "outputs": [],
   "source": [
    "import sys\n",
    "import csv\n",
    "import os.path\n",
    "import numpy as np\n",
    "\n",
    "def load_file(csvfile):\n",
    "\t#open file / create headers(column name) and data arrays\n",
    "\tif not os.path.isfile(csvfile):\n",
    "\t\texit_error('can\\'t find the file ' + csvfile)\n",
    "\tdata = []\n",
    "\twith open(csvfile) as csv_iterator:\n",
    "\t\tdata_reader = csv.reader(csv_iterator, delimiter=',')\n",
    "\t\tfor row in data_reader:\n",
    "\t\t\tdata.append(row)\n",
    "\tcsv_iterator.close()\n",
    "\tif len(data) < 2:\n",
    "\t\texit_error('file ' + csvfile + ' is empty')\n",
    "\theaders = data[0]\n",
    "\tdel data[0]\n",
    "\treturn headers, data\n",
    "\n",
    "def is_number(value):\n",
    "\t#surprisingly hard to do in python\n",
    "\ttry:\n",
    "\t\tfloat(value)\n",
    "\t\treturn True\n",
    "\texcept ValueError:\n",
    "\t\treturn False\n",
    "\n",
    "def all_numeric(data, index):\n",
    "\tfor row in data:\n",
    "\t\tif row[index] != '' and is_number(row[index]) == False:\n",
    "\t\t\treturn False\n",
    "\treturn True\n",
    "\n",
    "headers, data = load_file('./data/dataset_test.csv')"
   ]
  },
  {
   "cell_type": "code",
   "execution_count": 21,
   "metadata": {},
   "outputs": [],
   "source": [
    "def prep_data(headers, data, medians):\n",
    "\tfeaturesToReject = ['Index','Hogwarts House','First Name','Last Name','Arithmancy','Care of Magical Creatures', \\\n",
    "\t\t\t\t\t\t'Defense Against the Dark Arts','Birthday']\n",
    "\tfeaturesToKeep = []\n",
    "\tfeatures = []\n",
    "\t\t\t\t\t\t\n",
    "\tfor index, column in enumerate(headers):\n",
    "\t\tif column in featuresToReject:\n",
    "\t\t\tcontinue\n",
    "\t\tfeaturesToKeep.append(index)\n",
    "\t\tfeatures.append([])\n",
    "\t\t\t\n",
    "\tfor index, numCol in enumerate(featuresToKeep):\n",
    "\t\t# Replace categorical value with numeric\n",
    "\t\tif headers[numCol] == 'Best Hand':\n",
    "\t\t\tfor row in data:\n",
    "\t\t\t\tif row[numCol] == 'Left':\n",
    "\t\t\t\t\trow[numCol] = 0\n",
    "\t\t\t\telse:\n",
    "\t\t\t\t\trow[numCol] = 1\n",
    "\t\t# Replace NaN data with median\n",
    "\t\tmedian = medians[index]\n",
    "\t\tfor row in data:\n",
    "\t\t\tif row[numCol] == '':\n",
    "\t\t\t\trow[numCol] = median\n",
    "\n",
    "\t# Create a marix for the data\n",
    "\tfor index, numCol in enumerate(featuresToKeep):\n",
    "\t\tfor row in data:\n",
    "\t\t\tfeatures[index].append(float(row[numCol]))\n",
    "\n",
    "\t# Normalize data\n",
    "\tfor index, feature in enumerate(features):\n",
    "\t\tfeatures[index] = [(x - min(feature)) / (max(feature) - min(feature)) for x in feature]\n",
    "\t\n",
    "\treturn  features\n",
    "\n",
    "medians = np.load('./data/medians.npy')\n",
    "schools = np.load('./data/schools.npy')\n",
    "weights = np.load('./data/weights.npy')\n",
    "features = prep_data(headers, data, medians)\n",
    "test = np.array(features).T\n",
    "probas = []"
   ]
  },
  {
   "cell_type": "code",
   "execution_count": 23,
   "metadata": {},
   "outputs": [],
   "source": [
    "def sigmoid(z):\n",
    "\treturn 1 / (1 + np.exp(-z))\n",
    "\n",
    "for index, school in enumerate(schools):\n",
    "    theta = weights[index]\n",
    "    temp = np.dot(test, theta)\n",
    "    yhat = sigmoid(temp)\n",
    "    probas.append(yhat)"
   ]
  },
  {
   "cell_type": "code",
   "execution_count": 40,
   "metadata": {
    "scrolled": false
   },
   "outputs": [
    {
     "name": "stdout",
     "output_type": "stream",
     "text": [
      "done\n"
     ]
    }
   ],
   "source": [
    "yhats = np.array(probas).T\n",
    "\n",
    "with open('./data/houses.csv', 'w') as outputfile:\n",
    "    writer = csv.writer(outputfile, delimiter=',')\n",
    "    writer.writerow([\"Index\", \"Hogwarts House\"])\n",
    "    for index, row in enumerate(yhats):\n",
    "        writer.writerow((index, schools[row.argmax()]))\n",
    "print('done')"
   ]
  },
  {
   "cell_type": "code",
   "execution_count": 41,
   "metadata": {},
   "outputs": [
    {
     "name": "stdout",
     "output_type": "stream",
     "text": [
      "[[ 0.22923183  1.61887089 -2.89793269  1.32758465 -0.46311819  2.82159318\n",
      "  -3.36259254 -3.75225688 -1.20082167 -1.86829443  3.56678892]\n",
      " [-0.16596614  6.04380175  6.03501805  2.75102749 -4.79976776 -7.76362684\n",
      "   0.99240981  0.15407797 -4.28457719 -0.76809627 -4.76819701]\n",
      " [-0.35149453 -6.69104875  1.89879002  0.37291816  4.52149754  2.94899019\n",
      "  -2.11279563 -2.32344026 -2.72170322  5.32953697 -3.06904866]\n",
      " [ 0.22273446 -3.37758548 -3.62339024 -5.82398656 -1.04250226 -1.63990046\n",
      "   2.64047762  3.3822523   4.80749685 -2.34771938 -1.06001926]]\n"
     ]
    }
   ],
   "source": [
    "print(weights)"
   ]
  }
 ],
 "metadata": {
  "kernelspec": {
   "display_name": "Python [default]",
   "language": "python",
   "name": "python3"
  },
  "language_info": {
   "codemirror_mode": {
    "name": "ipython",
    "version": 3
   },
   "file_extension": ".py",
   "mimetype": "text/x-python",
   "name": "python",
   "nbconvert_exporter": "python",
   "pygments_lexer": "ipython3",
   "version": "3.6.3"
  }
 },
 "nbformat": 4,
 "nbformat_minor": 2
}
