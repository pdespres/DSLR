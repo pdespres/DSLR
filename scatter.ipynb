{
 "cells": [
  {
   "cell_type": "code",
   "execution_count": 10,
   "metadata": {
    "collapsed": true,
    "scrolled": false
   },
   "outputs": [],
   "source": [
    "import sys\n",
    "import csv\n",
    "import os.path\n",
    "\n",
    "def load_file(csvfile):\n",
    "\t#open file / create headers(column name) and data arrays\n",
    "\tif not os.path.isfile(csvfile):\n",
    "\t\texit_error('can\\'t find the file ' + csvfile)\n",
    "\tdata = []\n",
    "\twith open(csvfile) as csv_iterator:\n",
    "\t\tdata_reader = csv.reader(csv_iterator, delimiter=',')\n",
    "\t\tfor row in data_reader:\n",
    "\t\t\tdata.append(row)\n",
    "\tcsv_iterator.close()\n",
    "\tif len(data) < 2:\n",
    "\t\texit_error('file ' + csvfile + ' is empty')\n",
    "\theaders = data[0]\n",
    "\tdel data[0]\n",
    "\treturn headers, data\n",
    "\n",
    "headers, data = load_file('./data/dataset_train.csv')"
   ]
  },
  {
   "cell_type": "code",
   "execution_count": 22,
   "metadata": {},
   "outputs": [
    {
     "name": "stdout",
     "output_type": "stream",
     "text": [
      "1251\n"
     ]
    }
   ],
   "source": [
    "print(len(features[0]))"
   ]
  },
  {
   "cell_type": "code",
   "execution_count": 11,
   "metadata": {
    "collapsed": true
   },
   "outputs": [],
   "source": [
    "def is_number(value):\n",
    "\t#surprisingly hard to do in python\n",
    "\ttry:\n",
    "\t\tfloat(value)\n",
    "\t\treturn True\n",
    "\texcept ValueError:\n",
    "\t\treturn False\n",
    "\n",
    "def all_numeric(data, index):\n",
    "\tfor row in data:\n",
    "\t\tif row[index] != '' and is_number(row[index]) == False:\n",
    "\t\t\treturn False\n",
    "\treturn True"
   ]
  },
  {
   "cell_type": "code",
   "execution_count": 18,
   "metadata": {
    "scrolled": false
   },
   "outputs": [],
   "source": [
    "from datetime import datetime, time\n",
    "\n",
    "featuresToKeep = []\n",
    "features = []\n",
    "# test if the column is entirely made of numbers\n",
    "for index, column in enumerate(headers):        \n",
    "    bNumeric = all_numeric(data, index)\n",
    "    if column not in ('Best Hand', 'Birthday') and (not bNumeric or column == 'Index'):\n",
    "        continue\n",
    "    featuresToKeep.append(index)\n",
    "    features.append([])\n",
    "\n",
    "for row in data:\n",
    "    bNaN = False\n",
    "    for index, numCol in enumerate(featuresToKeep):\n",
    "        if row[numCol] == '':\n",
    "            bNaN = True\n",
    "    if bNaN:\n",
    "        continue\n",
    "    for index, numCol in enumerate(featuresToKeep):\n",
    "        if headers[numCol] == 'Best Hand':\n",
    "            if row[numCol] == 'Left':\n",
    "                features[index].append(0)\n",
    "            else:\n",
    "                features[index].append(1)\n",
    "        elif headers[numCol] == 'Birthday':\n",
    "            t = datetime.strptime(row[numCol], '%Y-%m-%d')\n",
    "            features[index].append(t.toordinal())\n",
    "        else:\n",
    "            features[index].append(float(row[numCol]))"
   ]
  },
  {
   "cell_type": "code",
   "execution_count": 19,
   "metadata": {
    "collapsed": true
   },
   "outputs": [],
   "source": [
    "def pearson_score(X, Y):\n",
    "    xmean = sum(X) / len(X)\n",
    "    ymean = sum(Y) / len(Y)\n",
    "    xsub = [i - xmean for i in X]\n",
    "    ysub = [i - ymean for i in Y]\n",
    "    xsub_times_ysub = [a * b for a, b in list(zip(xsub, ysub))]\n",
    "    etx = (sum(list(map((lambda x: (x - xmean) ** 2), X))) / (len(X) - 1)) ** 0.5\n",
    "    ety = (sum(list(map((lambda x: (x - ymean) ** 2), Y))) / (len(Y) - 1)) ** 0.5\n",
    "    return (sum(xsub_times_ysub) / len(xsub_times_ysub) / (etx * ety))"
   ]
  },
  {
   "cell_type": "code",
   "execution_count": 20,
   "metadata": {
    "scrolled": false
   },
   "outputs": [
    {
     "name": "stdout",
     "output_type": "stream",
     "text": [
      "0.01137023852182441\n",
      "0.0013674063456955647\n",
      "0.026933804646981006\n",
      "0.04374180053507975\n",
      "0.02693380464698108\n",
      "0.030634594935487716\n",
      "0.057776637649943965\n",
      "0.037554888651614736\n",
      "0.014720375983489874\n",
      "0.02034438859861697\n",
      "0.002896478588147734\n",
      "0.0024468559682120543\n",
      "0.05857430069042149\n",
      "0.004920395473304288\n",
      "0.007124521411107905\n",
      "0.034879159583099555\n",
      "0.040763657252375275\n",
      "0.034879159583099575\n",
      "0.013609518988979564\n",
      "0.041029291728503434\n",
      "0.027869372077713603\n",
      "0.013859476164770318\n",
      "0.02071706012076087\n",
      "0.0028502226580651444\n",
      "0.02506944579538572\n",
      "0.050586289737668585\n",
      "0.006475629236013518\n",
      "0.04439437407730221\n",
      "0.031969573379843165\n",
      "0.04439437407730228\n",
      "0.00585528632379808\n",
      "0.05022285910000043\n",
      "0.08246180661423355\n",
      "0.06854536622163818\n",
      "0.007310715979036232\n",
      "0.2964197721644252\n",
      "0.03886472958713732\n",
      "0.10454098529083855\n",
      "0.16383868873348903\n",
      "0.018214170019663578\n",
      "0.9992006394884071\n",
      "0.4775652162723748\n",
      "0.5906678541201853\n",
      "0.20719563176034564\n",
      "0.39459790652555604\n",
      "0.43549134182235655\n",
      "0.554293239052125\n",
      "0.024143352661656074\n",
      "0.5261866144292678\n",
      "0.5119679060536554\n",
      "0.01821417001966357\n",
      "0.5485938893158365\n",
      "0.44110665496765883\n",
      "0.05118614944517444\n",
      "0.5189919164860675\n",
      "0.5398550045460582\n",
      "0.09446498483049735\n",
      "0.06086503530018756\n",
      "0.7471571421017907\n",
      "0.2783624442766815\n",
      "0.47756521627237447\n",
      "0.5906678541201859\n",
      "0.2071956317603461\n",
      "0.3945979065255559\n",
      "0.43549134182235694\n",
      "0.5542932390521252\n",
      "0.024143352661656063\n",
      "0.5261866144292687\n",
      "0.511967906053655\n",
      "0.24846516760626663\n",
      "0.4252874686105446\n",
      "0.16853552487578835\n",
      "0.16936340457933516\n",
      "0.4861484198342536\n",
      "0.021203796643046894\n",
      "0.39063211650701524\n",
      "0.40076874834715737\n",
      "0.5653170950920989\n",
      "0.3004826043319803\n",
      "0.2831177555197255\n",
      "0.2078522680045524\n",
      "0.0491803863363386\n",
      "0.8526903875462098\n",
      "0.1979254809512714\n",
      "0.47937263570846006\n",
      "0.4518366137965584\n",
      "0.11965958757496103\n",
      "0.014282087287552907\n",
      "0.3493302666186514\n",
      "0.5656220014167271\n",
      "0.8458339428138404\n",
      "0.5981039309571392\n",
      "0.0507795274234273\n",
      "0.5380023367036972\n",
      "0.8963974885249585\n",
      "0.5673912024366885\n",
      "0.05492277912739422\n",
      "0.5471510187887614\n",
      "0.8717241647522067\n",
      "0.013329053046026476\n",
      "0.25504627615534664\n",
      "0.558180263039512\n",
      "0.06377504956480186\n",
      "0.03886768051823646\n",
      "0.35408950267565464\n",
      "Astronomy Defense Against the Dark Arts 0.9992006394884071\n"
     ]
    }
   ],
   "source": [
    "pmax = 0\n",
    "for i, column1 in enumerate(featuresToKeep):\n",
    "    for j, column2 in enumerate(featuresToKeep):\n",
    "        if i >= j:\n",
    "            continue\n",
    "        coefCorr = pearson_score(features[i], features[j])\n",
    "        print(abs(coefCorr))\n",
    "        if abs(coefCorr) > pmax:\n",
    "            pmax = abs(coefCorr)\n",
    "            result = (i,j)\n",
    "print(headers[featuresToKeep[result[0]]],headers[featuresToKeep[result[1]]],pmax)"
   ]
  },
  {
   "cell_type": "code",
   "execution_count": null,
   "metadata": {
    "collapsed": true
   },
   "outputs": [],
   "source": []
  }
 ],
 "metadata": {
  "kernelspec": {
   "display_name": "Python [default]",
   "language": "python",
   "name": "python3"
  },
  "language_info": {
   "codemirror_mode": {
    "name": "ipython",
    "version": 3
   },
   "file_extension": ".py",
   "mimetype": "text/x-python",
   "name": "python",
   "nbconvert_exporter": "python",
   "pygments_lexer": "ipython3",
   "version": "3.6.3"
  }
 },
 "nbformat": 4,
 "nbformat_minor": 2
}
